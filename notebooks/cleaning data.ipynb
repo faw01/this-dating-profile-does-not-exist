{
 "cells": [
  {
   "cell_type": "code",
   "execution_count": 1,
   "metadata": {},
   "outputs": [],
   "source": [
    "import pandas as pd\n",
    "import os"
   ]
  },
  {
   "cell_type": "code",
   "execution_count": 2,
   "metadata": {},
   "outputs": [],
   "source": [
    "tinder_df = pd.read_csv(r'D:/GitHub/this-profile-does-not-exist/tinder_dataset.csv')"
   ]
  },
  {
   "cell_type": "code",
   "execution_count": 3,
   "metadata": {},
   "outputs": [
    {
     "name": "stdout",
     "output_type": "stream",
     "text": [
      "                                   profile-description\n",
      "0                                        @aishwaaryaaa\n",
      "1            IG 📸 : zen.ji.906\\r\\nRarely Tinder Use IG\n",
      "2    148 cm\\r\\nCover song\\r\\nSpecky boy hits diff :...\n",
      "3                             Addicted to taller guy 🫦\n",
      "4                             Yeay turn 20 now HAHAHHH\n",
      "..                                                 ...\n",
      "734                               kentang yg bergoreng\n",
      "735                                                NaN\n",
      "736                 Let’s get to know each other more.\n",
      "737                                                NaN\n",
      "738  I’m not into fwb, ons or whatever they call it...\n",
      "\n",
      "[739 rows x 1 columns]\n"
     ]
    }
   ],
   "source": [
    "print(tinder_df)"
   ]
  },
  {
   "cell_type": "code",
   "execution_count": 4,
   "metadata": {},
   "outputs": [
    {
     "data": {
      "text/plain": [
       "(739, 1)"
      ]
     },
     "execution_count": 4,
     "metadata": {},
     "output_type": "execute_result"
    }
   ],
   "source": [
    "tinder_df.shape"
   ]
  },
  {
   "cell_type": "code",
   "execution_count": 5,
   "metadata": {},
   "outputs": [],
   "source": [
    "# remove duplicates\n",
    "# tinder_df.drop_duplicates(inplace = True)\n",
    "# tinder_df.reset_index(inplace = True)\n",
    "tinder_df.replace('NaN', '')\n",
    "tinder_df.drop(tinder_df.columns[1], axis=1, inplace=True)\n",
    "tinder_df.dropna(inplace=True)"
   ]
  },
  {
   "cell_type": "code",
   "execution_count": 6,
   "metadata": {},
   "outputs": [
    {
     "data": {
      "text/plain": [
       "(514, 1)"
      ]
     },
     "execution_count": 6,
     "metadata": {},
     "output_type": "execute_result"
    }
   ],
   "source": [
    "tinder_df.shape"
   ]
  },
  {
   "cell_type": "code",
   "execution_count": 7,
   "metadata": {},
   "outputs": [],
   "source": [
    "tinder_df.to_csv('tinder_dataset_cleaned.csv')"
   ]
  },
  {
   "cell_type": "markdown",
   "metadata": {},
   "source": []
  }
 ],
 "metadata": {
  "kernelspec": {
   "display_name": "Python 3.10.1 64-bit",
   "language": "python",
   "name": "python3"
  },
  "language_info": {
   "codemirror_mode": {
    "name": "ipython",
    "version": 3
   },
   "file_extension": ".py",
   "mimetype": "text/x-python",
   "name": "python",
   "nbconvert_exporter": "python",
   "pygments_lexer": "ipython3",
   "version": "3.10.1"
  },
  "orig_nbformat": 4,
  "vscode": {
   "interpreter": {
    "hash": "369f2c481f4da34e4445cda3fffd2e751bd1c4d706f27375911949ba6bb62e1c"
   }
  }
 },
 "nbformat": 4,
 "nbformat_minor": 2
}
